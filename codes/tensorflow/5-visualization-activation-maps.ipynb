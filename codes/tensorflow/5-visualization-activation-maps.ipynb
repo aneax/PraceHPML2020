{
 "cells": [
  {
   "cell_type": "code",
   "execution_count": 1,
   "metadata": {},
   "outputs": [],
   "source": [
    "from tensorflow.keras.datasets import cifar10\n",
    "from tensorflow.keras.models import Sequential\n",
    "from tensorflow.keras.layers import Dense, Flatten, Conv2D\n",
    "from tensorflow.keras.losses import sparse_categorical_crossentropy\n",
    "from tensorflow.keras.optimizers import Adam\n",
    "from tf_explain.callbacks.activations_visualization import ActivationsVisualizationCallback"
   ]
  },
  {
   "cell_type": "code",
   "execution_count": 2,
   "metadata": {},
   "outputs": [
    {
     "name": "stdout",
     "output_type": "stream",
     "text": [
      "--2020-09-13 18:03:06--  https://www.cs.toronto.edu/~kriz/cifar-10-python.tar.gz\n",
      "Resolving www.cs.toronto.edu (www.cs.toronto.edu)... 128.100.3.30\n",
      "Connecting to www.cs.toronto.edu (www.cs.toronto.edu)|128.100.3.30|:443... connected.\n",
      "HTTP request sent, awaiting response... 416 Requested Range Not Satisfiable\n",
      "\n",
      "    The file is already fully retrieved; nothing to do.\n",
      "\n",
      "cifar-10-batches-py/\n",
      "cifar-10-batches-py/data_batch_4\n",
      "cifar-10-batches-py/readme.html\n",
      "cifar-10-batches-py/test_batch\n",
      "cifar-10-batches-py/data_batch_3\n",
      "cifar-10-batches-py/batches.meta\n",
      "cifar-10-batches-py/data_batch_2\n",
      "cifar-10-batches-py/data_batch_5\n",
      "cifar-10-batches-py/data_batch_1\n"
     ]
    }
   ],
   "source": [
    "!wget -c https://www.cs.toronto.edu/~kriz/cifar-10-python.tar.gz\n",
    "!mkdir -p ${HOME}/.keras/datasets\n",
    "!tar -xzvf cifar-10-python.tar.gz -C ${HOME}/.keras/datasets"
   ]
  },
  {
   "cell_type": "code",
   "execution_count": 2,
   "metadata": {},
   "outputs": [],
   "source": [
    "# Model configuration\n",
    "batch_size = 32\n",
    "img_width, img_height, img_num_channels = 32, 32, 3\n",
    "loss_function = sparse_categorical_crossentropy\n",
    "no_classes = 10\n",
    "no_epochs = 10\n",
    "optimizer = Adam()\n",
    "validation_split = 0.2\n",
    "verbosity = 1"
   ]
  },
  {
   "cell_type": "code",
   "execution_count": 3,
   "metadata": {},
   "outputs": [],
   "source": [
    "# Load CIFAR-10 data\n",
    "(input_train, target_train), (input_test, target_test) = cifar10.load_data()\n",
    "# Determine shape of the data\n",
    "input_shape = (img_width, img_height, img_num_channels)\n",
    "# Parse numbers as floats\n",
    "input_train = input_train.astype('float32')\n",
    "input_test = input_test.astype('float32')\n",
    "# Scale data\n",
    "input_train = input_train / 255\n",
    "input_test = input_test / 255"
   ]
  },
  {
   "cell_type": "code",
   "execution_count": 4,
   "metadata": {},
   "outputs": [],
   "source": [
    "# Create the model\n",
    "model = Sequential()\n",
    "model.add(Conv2D(32, kernel_size=(3, 3), activation='relu', input_shape=input_shape))\n",
    "model.add(Conv2D(64, kernel_size=(3, 3), activation='relu', name='visualization_layer'))\n",
    "model.add(Conv2D(128, kernel_size=(3, 3), activation='relu'))\n",
    "model.add(Flatten())\n",
    "model.add(Dense(128, activation='relu'))\n",
    "model.add(Dense(no_classes, activation='softmax'))"
   ]
  },
  {
   "cell_type": "code",
   "execution_count": 5,
   "metadata": {},
   "outputs": [],
   "source": [
    "# Compile the model\n",
    "model.compile(loss=loss_function,\n",
    "              optimizer=optimizer,\n",
    "              metrics=['accuracy'])"
   ]
  },
  {
   "cell_type": "code",
   "execution_count": 6,
   "metadata": {},
   "outputs": [],
   "source": [
    "# Define the Activation Visualization callback\n",
    "output_dir = './visualizations'\n",
    "callbacks = [\n",
    "    ActivationsVisualizationCallback(\n",
    "        validation_data=(input_test, target_test),\n",
    "        layers_name=['visualization_layer'],\n",
    "        output_dir=output_dir,\n",
    "    ),\n",
    "]"
   ]
  },
  {
   "cell_type": "code",
   "execution_count": 7,
   "metadata": {},
   "outputs": [
    {
     "name": "stdout",
     "output_type": "stream",
     "text": [
      "Epoch 1/10\n",
      "1250/1250 [==============================] - 84s 67ms/step - loss: 1.3805 - accuracy: 0.5038 - val_loss: 1.0705 - val_accuracy: 0.6225\n",
      "Epoch 2/10\n",
      "1250/1250 [==============================] - 81s 65ms/step - loss: 0.9351 - accuracy: 0.6723 - val_loss: 0.9555 - val_accuracy: 0.6631\n",
      "Epoch 3/10\n",
      "1250/1250 [==============================] - 81s 65ms/step - loss: 0.6489 - accuracy: 0.7743 - val_loss: 0.9866 - val_accuracy: 0.6625\n",
      "Epoch 4/10\n",
      "1250/1250 [==============================] - 84s 67ms/step - loss: 0.3675 - accuracy: 0.8720 - val_loss: 1.2476 - val_accuracy: 0.6522\n",
      "Epoch 5/10\n",
      "1250/1250 [==============================] - 85s 68ms/step - loss: 0.1725 - accuracy: 0.9416 - val_loss: 1.5888 - val_accuracy: 0.6436\n",
      "Epoch 6/10\n",
      "1250/1250 [==============================] - 84s 67ms/step - loss: 0.1121 - accuracy: 0.9621 - val_loss: 2.0108 - val_accuracy: 0.6413\n",
      "Epoch 7/10\n",
      "1250/1250 [==============================] - 84s 67ms/step - loss: 0.0868 - accuracy: 0.9699 - val_loss: 2.0655 - val_accuracy: 0.6358\n",
      "Epoch 8/10\n",
      "1250/1250 [==============================] - 85s 68ms/step - loss: 0.0799 - accuracy: 0.9743 - val_loss: 2.1487 - val_accuracy: 0.6435\n",
      "Epoch 9/10\n",
      "1250/1250 [==============================] - 80s 64ms/step - loss: 0.0619 - accuracy: 0.9798 - val_loss: 2.4432 - val_accuracy: 0.6479\n",
      "Epoch 10/10\n",
      "1250/1250 [==============================] - 83s 66ms/step - loss: 0.0659 - accuracy: 0.9779 - val_loss: 2.7169 - val_accuracy: 0.6309\n"
     ]
    }
   ],
   "source": [
    "# Fit data to model\n",
    "history = model.fit(input_train, target_train,\n",
    "            batch_size=batch_size,\n",
    "            epochs=no_epochs,\n",
    "            verbose=verbosity,\n",
    "            validation_split=validation_split,\n",
    "            callbacks=callbacks)"
   ]
  },
  {
   "cell_type": "code",
   "execution_count": 9,
   "metadata": {},
   "outputs": [
    {
     "name": "stdout",
     "output_type": "stream",
     "text": [
      "Test loss: 2.5153918266296387 / Test accuracy: 0.630299985408783\n"
     ]
    }
   ],
   "source": [
    "# Generate generalization metrics\n",
    "score = model.evaluate(input_test, target_test, verbose=0)\n",
    "print(f'Test loss: {score[0]} / Test accuracy: {score[1]}')"
   ]
  },
  {
   "cell_type": "code",
   "execution_count": null,
   "metadata": {},
   "outputs": [],
   "source": []
  }
 ],
 "metadata": {
  "kernelspec": {
   "display_name": "Python 3",
   "language": "python",
   "name": "python3"
  },
  "language_info": {
   "codemirror_mode": {
    "name": "ipython",
    "version": 3
   },
   "file_extension": ".py",
   "mimetype": "text/x-python",
   "name": "python",
   "nbconvert_exporter": "python",
   "pygments_lexer": "ipython3",
   "version": "3.6.6"
  }
 },
 "nbformat": 4,
 "nbformat_minor": 4
}
